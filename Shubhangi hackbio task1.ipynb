{
 "cells": [
  {
   "cell_type": "code",
   "execution_count": 2,
   "id": "99289cda",
   "metadata": {},
   "outputs": [
    {
     "name": "stdout",
     "output_type": "stream",
     "text": [
      "Shubhangi Chakraborty chakraborty.shubhangi@gmail.com Shubhangi#7338 Vaccine Informatics\n"
     ]
    }
   ],
   "source": [
    "name= \"Shubhangi Chakraborty\"\n",
    "email= \"chakraborty.shubhangi@gmail.com\"\n",
    "Discord=\"Shubhangi#7338\"\n",
    "Biostack=\"Vaccine Informatics\"\n",
    "print(name , email, Discord, Biostack)"
   ]
  },
  {
   "cell_type": "code",
   "execution_count": null,
   "id": "6fee0419",
   "metadata": {},
   "outputs": [],
   "source": []
  }
 ],
 "metadata": {
  "kernelspec": {
   "display_name": "Python 3",
   "language": "python",
   "name": "python3"
  },
  "language_info": {
   "codemirror_mode": {
    "name": "ipython",
    "version": 3
   },
   "file_extension": ".py",
   "mimetype": "text/x-python",
   "name": "python",
   "nbconvert_exporter": "python",
   "pygments_lexer": "ipython3",
   "version": "3.8.8"
  }
 },
 "nbformat": 4,
 "nbformat_minor": 5
}
